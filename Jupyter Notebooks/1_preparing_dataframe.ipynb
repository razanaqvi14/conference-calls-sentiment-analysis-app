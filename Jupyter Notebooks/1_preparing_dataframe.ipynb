{
 "cells": [
  {
   "cell_type": "code",
   "execution_count": 1,
   "id": "258702a8-0d12-4c8e-a44f-3f2b27f99249",
   "metadata": {},
   "outputs": [],
   "source": [
    "from docx import Document\n",
    "import pandas as pd\n",
    "from nltk.tokenize import sent_tokenize\n",
    "import nltk"
   ]
  },
  {
   "cell_type": "code",
   "execution_count": 2,
   "id": "01c8e1f4-75dc-40b9-b8e1-e8bbea7cfc9a",
   "metadata": {},
   "outputs": [
    {
     "name": "stderr",
     "output_type": "stream",
     "text": [
      "[nltk_data] Downloading package punkt to\n",
      "[nltk_data]     C:\\Users\\razan\\AppData\\Roaming\\nltk_data...\n",
      "[nltk_data]   Package punkt is already up-to-date!\n"
     ]
    },
    {
     "data": {
      "text/plain": [
       "True"
      ]
     },
     "execution_count": 2,
     "metadata": {},
     "output_type": "execute_result"
    }
   ],
   "source": [
    "nltk.download(\"punkt\")"
   ]
  },
  {
   "cell_type": "code",
   "execution_count": 3,
   "id": "61b339c7-37ca-4966-bee0-7cc7de795475",
   "metadata": {},
   "outputs": [],
   "source": [
    "document_path = \"../Data/Apple Con Call Transcript.docx\""
   ]
  },
  {
   "cell_type": "code",
   "execution_count": 4,
   "id": "e6be5cb6-fa8b-4258-825d-1e6ec6ad37e8",
   "metadata": {},
   "outputs": [],
   "source": [
    "doc = Document(document_path)"
   ]
  },
  {
   "cell_type": "code",
   "execution_count": 5,
   "id": "38791dba-9b00-452c-9592-3a54d68e2ccc",
   "metadata": {},
   "outputs": [],
   "source": [
    "company_participants = []\n",
    "company_participants_index = -1 \n",
    "\n",
    "for i, paragraph in enumerate(doc.paragraphs):\n",
    "    if paragraph.text == \"Company Participants\":\n",
    "        company_participants_index = i\n",
    "    if i == (company_participants_index + 1) and company_participants_index != -1:\n",
    "        company_participants.append(paragraph.text.split(\"\\n\"))"
   ]
  },
  {
   "cell_type": "code",
   "execution_count": 6,
   "id": "e9c55298-ea8b-4e9a-b2ed-1e39ccce223a",
   "metadata": {},
   "outputs": [
    {
     "data": {
      "text/plain": [
       "['Suhasini Chandramouli - Director, Investor Relations',\n",
       " 'Tim Cook - Chief Executive Officer',\n",
       " 'Kevan Parekh - Chief Financial Officer']"
      ]
     },
     "execution_count": 6,
     "metadata": {},
     "output_type": "execute_result"
    }
   ],
   "source": [
    "company_participants[0]"
   ]
  },
  {
   "cell_type": "code",
   "execution_count": 7,
   "id": "891e1582-7501-4652-be82-9b151ee20a3f",
   "metadata": {},
   "outputs": [],
   "source": [
    "analysts = []\n",
    "conference_call_participants_index = -1 \n",
    "\n",
    "for i, paragraph in enumerate(doc.paragraphs):\n",
    "    if paragraph.text == \"Conference Call Participants\":\n",
    "        conference_call_participants_index = i\n",
    "    if i == (conference_call_participants_index + 1) and conference_call_participants_index != -1:\n",
    "        analysts.append(paragraph.text.split(\"\\n\"))"
   ]
  },
  {
   "cell_type": "code",
   "execution_count": 8,
   "id": "c89dbc45-3432-4258-ba02-6cbf0044fc8c",
   "metadata": {},
   "outputs": [
    {
     "data": {
      "text/plain": [
       "['Erik Woodring - Morgan Stanley',\n",
       " 'Ben Reitzes - Melius',\n",
       " 'Michael Ng - Goldman Sachs',\n",
       " 'Amit Daryanani - Evercore',\n",
       " 'Wamsi Mohan - Bank of America',\n",
       " 'Samik Chatterjee - JPMorgan',\n",
       " 'David Vogt - UBS',\n",
       " 'Krish Sankar - TD Cowen',\n",
       " 'Richard Kramer - Arete Research',\n",
       " 'Atif Malik - Citi',\n",
       " 'Ben Bollin - Cleveland Research Company']"
      ]
     },
     "execution_count": 8,
     "metadata": {},
     "output_type": "execute_result"
    }
   ],
   "source": [
    "analysts[0]"
   ]
  },
  {
   "cell_type": "code",
   "execution_count": 9,
   "id": "c68861d3-5f80-4440-a489-3f7c4c38b9b9",
   "metadata": {},
   "outputs": [],
   "source": [
    "def extract_name_role(pairs):\n",
    "    name_role_dict = {}\n",
    "    for pair in pairs:\n",
    "        name, role = [item.strip() for item in pair.split(\" - \")]\n",
    "        name_role_dict[name] = role\n",
    "    return name_role_dict"
   ]
  },
  {
   "cell_type": "code",
   "execution_count": 10,
   "id": "cbfc861f-5a5b-4acb-a5eb-02eafe5fdc2f",
   "metadata": {},
   "outputs": [],
   "source": [
    "company_participants_dictionary = extract_name_role(company_participants[0])"
   ]
  },
  {
   "cell_type": "code",
   "execution_count": 11,
   "id": "b70c69f7-3ad6-4de5-afe9-789827967430",
   "metadata": {},
   "outputs": [
    {
     "data": {
      "text/plain": [
       "{'Suhasini Chandramouli': 'Director, Investor Relations',\n",
       " 'Tim Cook': 'Chief Executive Officer',\n",
       " 'Kevan Parekh': 'Chief Financial Officer'}"
      ]
     },
     "execution_count": 11,
     "metadata": {},
     "output_type": "execute_result"
    }
   ],
   "source": [
    "company_participants_dictionary"
   ]
  },
  {
   "cell_type": "code",
   "execution_count": 12,
   "id": "14d9dd68-b679-4b5f-a2b9-708c5d7a8dde",
   "metadata": {},
   "outputs": [],
   "source": [
    "company_participants_names = list(company_participants_dictionary.keys())"
   ]
  },
  {
   "cell_type": "code",
   "execution_count": 13,
   "id": "a46e783b-099a-4fcc-be3a-7334195e878d",
   "metadata": {},
   "outputs": [
    {
     "data": {
      "text/plain": [
       "['Suhasini Chandramouli', 'Tim Cook', 'Kevan Parekh']"
      ]
     },
     "execution_count": 13,
     "metadata": {},
     "output_type": "execute_result"
    }
   ],
   "source": [
    "company_participants_names"
   ]
  },
  {
   "cell_type": "code",
   "execution_count": 14,
   "id": "89fe2f55-4712-4318-9e7b-98a6499f05f1",
   "metadata": {},
   "outputs": [],
   "source": [
    "analyst_names = [name.split(\"-\")[0].strip() for name in analysts[0]]"
   ]
  },
  {
   "cell_type": "code",
   "execution_count": 15,
   "id": "3060db28-d5d5-45a9-824a-eaf152c206b2",
   "metadata": {},
   "outputs": [
    {
     "data": {
      "text/plain": [
       "['Erik Woodring',\n",
       " 'Ben Reitzes',\n",
       " 'Michael Ng',\n",
       " 'Amit Daryanani',\n",
       " 'Wamsi Mohan',\n",
       " 'Samik Chatterjee',\n",
       " 'David Vogt',\n",
       " 'Krish Sankar',\n",
       " 'Richard Kramer',\n",
       " 'Atif Malik',\n",
       " 'Ben Bollin']"
      ]
     },
     "execution_count": 15,
     "metadata": {},
     "output_type": "execute_result"
    }
   ],
   "source": [
    "analyst_names"
   ]
  },
  {
   "cell_type": "code",
   "execution_count": 16,
   "id": "904c5817-e5d6-491e-8091-1dff18e16cf4",
   "metadata": {},
   "outputs": [],
   "source": [
    "names = company_participants_names + analyst_names + [\"Operator\"]"
   ]
  },
  {
   "cell_type": "code",
   "execution_count": 17,
   "id": "44a78755-4146-4428-ab95-4866b841cc4a",
   "metadata": {},
   "outputs": [
    {
     "data": {
      "text/plain": [
       "['Suhasini Chandramouli',\n",
       " 'Tim Cook',\n",
       " 'Kevan Parekh',\n",
       " 'Erik Woodring',\n",
       " 'Ben Reitzes',\n",
       " 'Michael Ng',\n",
       " 'Amit Daryanani',\n",
       " 'Wamsi Mohan',\n",
       " 'Samik Chatterjee',\n",
       " 'David Vogt',\n",
       " 'Krish Sankar',\n",
       " 'Richard Kramer',\n",
       " 'Atif Malik',\n",
       " 'Ben Bollin',\n",
       " 'Operator']"
      ]
     },
     "execution_count": 17,
     "metadata": {},
     "output_type": "execute_result"
    }
   ],
   "source": [
    "names"
   ]
  },
  {
   "cell_type": "code",
   "execution_count": 18,
   "id": "eab8f958-7a82-4695-aa57-b996b9130b05",
   "metadata": {},
   "outputs": [],
   "source": [
    "def extract_dialogues(names):\n",
    "    dialogues = []\n",
    "\n",
    "    current_speaker = None\n",
    "    current_dialogue = []\n",
    "\n",
    "    for para in doc.paragraphs:\n",
    "        line = para.text.strip()\n",
    "\n",
    "        if line in names:\n",
    "            if current_speaker:\n",
    "                dialogues.append((current_speaker, \" \".join(current_dialogue)))\n",
    "\n",
    "            current_speaker = line\n",
    "            current_dialogue = []\n",
    "        else:\n",
    "            current_dialogue.append(line)\n",
    "\n",
    "    if current_speaker and current_dialogue:\n",
    "        dialogues.append((current_speaker, \" \".join(current_dialogue)))\n",
    "\n",
    "    return dialogues"
   ]
  },
  {
   "cell_type": "code",
   "execution_count": 19,
   "id": "0e34c9d2-0108-43d2-b721-1ff94370d5d8",
   "metadata": {},
   "outputs": [],
   "source": [
    "result = extract_dialogues(names)"
   ]
  },
  {
   "cell_type": "code",
   "execution_count": 20,
   "id": "bdfa0a72-b4ca-490e-823c-541f35670175",
   "metadata": {
    "scrolled": true
   },
   "outputs": [
    {
     "data": {
      "text/plain": [
       "[('Suhasini Chandramouli',\n",
       "  \"Good afternoon, and welcome to the Apple Q1 Fiscal Year 2025 Earnings Conference Call. My name is Suhasini Chandramouli, Director of Investor Relations. Today's call is being recorded. Speaking first today are Apple CEO, Tim Cook, and he will be followed by CFO, Kevan Parekh. After that, we'll open the call to questions from analysts. Please note that some of the information you'll hear during our discussion today will consist of forward-looking statements, including, without limitation, those regarding revenue, gross margin, operating expenses, other income and expense, taxes, capital allocation, and future business outlook, including the potential impact of macroeconomic conditions on the company's business and results of operations. These statements involve risks and uncertainties that may cause actual results or trends to differ materially from our forecast. For more information, please refer to the risk factors discussed in Apple's most recently filed annual report on Form 10-K and the Form 8-K filed with the SEC today along with the associated press release. Apple assumes no obligation to update any forward-looking statements, which speak only as of the date they are made. I'd now like to turn the call over to Tim for introductory remarks.\"),\n",
       " ('Tim Cook',\n",
       "  \"Thank you, Suhasini. Good afternoon, everyone, and thanks for joining the call. Before I talk about our results I'd like to take a moment to acknowledge the devastating wildfires that impacted the Los Angeles area this month. From our retail teams to Apple TV+, Apple Music, Fitness Plus, Beats and more LA is home to many of our team members. Our thoughts are with everyone who is beginning the road to recovery. For our part, we are contributing to the relief efforts and we will continue to support our teams and the local community. Now turning to the quarter. Today, Apple is reporting revenue of $124.3 billion for the December quarter, up 4% from a year ago, and an all-time record. EPS also set an all-time record of $2.40, 10% higher year-over-year. We achieved all-time revenue records across the majority of the countries and regions we track, including the Americas, Europe, Japan, and the rest of Asia Pacific. We also continue to see momentum in emerging markets, setting all-time revenue records in a number of markets, including Latin America, the Middle East, and South Asia, among others. In services, we achieved an all-time revenue record, and in the past year, we've seen nearly $100 billion in revenue from our services business. I'm also pleased to announce that we reached a new record for our installed base with over 2.35 billion active devices. In October, we released the first set of Apple Intelligence features in U.S. English for iPhone, iPad, and Mac, and we rolled out more features and expanded to more countries in December. Now users can discover the benefits of these new features in the things they do every day. They can use writing tools to help find just the right words, create fun and unique images with Image Playground and Genmoji, handle daily tasks and seek out information with a more natural and conversational Siri, create movies of their memories with a simple prompt, and touch up their photos with clean up. We introduced visual intelligence with camera control to help users instantly learn about their surroundings. Users can also seamlessly access chat GPT across iOS, iPadOS and MacOS. And we were excited to recently begin our international expansion with Apple Intelligence now available in Australia, Canada, New Zealand, South Africa, and the U.K. We're working hard to take Apple Intelligence even further. In April, we're bringing Apple Intelligence to more languages, including French, German, Italian, Portuguese, Spanish, Japanese, Korean, and simplified Chinese, as well as localized English to Singapore and India. And we'll continue to roll out more features in the future, including an even more capable Siri. Apple Intelligence builds on years of innovations we've made across hardware and software to transform how users experience our products. Apple Intelligence also empowers users by delivering personal context that's relevant to them. And importantly, Apple Intelligence is a breakthrough for privacy and AI with innovations like Private Cloud Compute, which extends the industry-leading security and privacy of Apple devices into the cloud. Apple Intelligence opens up an exciting new frontier and is already elevating experiences across iPhone, iPad, and Mac. We're going to keep investing in innovation and in transformative tools that help users in their everyday lives. Let me now turn to our results for the quarter, starting with iPhone. iPhone revenue came in at $69.1 billion, reaching all-time iPhone revenue records in dozens of markets and regions. Our iPhone 16 lineup takes the smartphone experience to the next level in so many ways, and Apple Intelligence is one of many reasons why customers are excited. With the A18 powered iPhone 16 and iPhone 16 Plus, users are getting a big boost in battery life and incredible camera experiences with camera control. Our amazingly powerful iPhone 16 Pro models go even further with larger-than-ever displays and a pro camera system so advanced it can turn moments into masterpieces. In Mac, revenue was $9 billion for the December quarter, 16% higher year-over-year, driven by significant excitement around the world for our latest Mac lineup. The Mac is more than just a powerful tool. It's a launchpad to enable users to bring their best ideas and boldest creations to life. And there are so many reasons to choose Mac, from the breathtaking performance of the M4 family of chips to the groundbreaking and growing capabilities of Apple Intelligence. Every product in the Mac lineup offers something extraordinary, whether that's the super portable MacBook Air, the powerhouse MacBook Pro, the world's best all-in-one iMac, or the small wonder that is the Mac Mini, which is not only stunningly capable, but is our first carbon neutral Mac. All of this is enabled by the unparalleled power of Apple Silicon. iPad revenue was $8.1 billion, up 15% from a year ago, driven by strong interest for our latest products. We love hearing from customers, who are discovering for the first time the versatility of iPad from the ultra-portal iPad Mini, built from the ground up for Apple intelligence, to the powerful M4 iPad Pro in a stunningly thin and light design. iPad is there for our users whenever they need it and wherever they go and we are pleased to see so much excitement and enthusiasm for our lineup. Wearables home and accessories revenue came in at $11.7 billion. With its most advanced display yet and a thinner more comfortable design, the all-new Apple Watch Series 10 is the perfect companion to help users pursue their health and fitness goals this year. From the powerful Vitals app to more customizable activity rings, users have an ever-increasing set of innovative health tools at their fingertips and watchOS 11. Health innovation has long been a focus for us, and we're committed to continuing to advance this work, because we know how much it matters to our users. We've introduced new hearing health features on AirPods Pro 2, and new sleep apnea notifications on Apple Watch are also helping users learn of a potentially serious condition that's thought to affect up to a billion people worldwide. During the quarter, we also brought Apple Vision Pro to even more countries, enabling more customers to discover the magic of spatial computing. Users are enjoying incredible immersive entertainment experiences and powerful new features and enhancements to Mac virtual display. Vision Pro is also supercharging the creative process and the incredibly talented director John M. Chu recently shared how its extraordinary capabilities helped him bring the movie Wicked to life. Turning to services, we set an all-time revenue record of $26.3 billion for the December quarter, growing 14% from a year ago. We set all-time records in the Americas, Europe, and rest of Asia-Pacific, and a December quarter record in Japan. Five years since launch, Apple TV+ continues to be home to incredible storytelling that viewers love. There's nothing quite like the anticipation that comes when a fan favorite returns, and we were thrilled to debut the second season of Severance earlier this month. We have so much in store for our subscribers this year with new shows like The Studio and Your Friends and Neighbors. And we can't wait for the premiere of Formula 1 starring Brad Pitt on June 27, which will take viewers inside the sport in a truly unprecedented way. We're excited that Apple TV+ continues to draw attention and accolades. To-date, Apple TV+ productions have earned more than 2,500 nominations and 538 wins. During the quarter, we were also excited to launch a new Find My Service that can help our users when they lose their luggage. For the first time, if you put an air tag in your suitcase, you'll be able to share its location information with many major airlines, so they can quickly track down your bags if they get lost. Turning to retail, our teams went above and beyond to help customers find the perfect gift throughout the holiday season. We also celebrated openings of new stores in China, Spain, and the U.S. and we were excited to announce plans to connect with even more customers this year by adding a fifth store in the UAE and bringing our online store to Saudi Arabia this summer. We can't wait to welcome customers to the first of several flagship store locations in Saudi Arabia that were opening beginning in 2026. I just had the chance to visit both countries last month, and I had a great time meeting with customers and team members. There's an incredible energy and passion for technology in these growing markets. Every day, I get deeply moving notes about the many ways our technology is enriching our users' lives. I recently got a note from a customer who put his watch on his father's wrist when he feared something was wrong with him. The watch alerted them that the father was an AFib and they were able to get him to the hospital for potentially life-saving treatment. Another user put his new watch on for the first time and within 15 minutes was notified of a low heart rate that led to a necessary pacemaker. And there are so many touching notes around the profound impact of our new hearing health feature like a recent user who told me it had changed her life, allowing her to take part in conversations with her children and grandchildren. These are the kind of stories that remind us of how profoundly important our work is, and it drives us to innovate each and every day. At Apple, the future is full of promise and potential. We're always searching across a world of possibilities, finding those places where we can do the most good and putting all of our energy and ingenuity into making something special. With that, I'll turn it over to Kevin.\"),\n",
       " ('Kevan Parekh',\n",
       "  \"Thanks Tim, and good afternoon everyone. I'm going to cover the results for the first quarter of our fiscal year. We are very pleased to report an all-time high for revenue with December quarter revenue of $124.3 billion, up 4% year-over-year. We achieved all-time revenue records in the Americas, Europe, Japan, and rest of Asia Pacific and grew in the vast majority of markets we track. Products revenue was $98 billion, up 2% year-over-year, driven by growth from iPad and Mac. Thanks to our incredible customer satisfaction and strong loyalty, our installed base of active devices reached an all-time high across all products and geographic segments and is now over 2.35 billion active devices. Services revenue reached an all-time record of $26.3 billion, up 14% year-over-year. We grew in every geographic segment and achieved all-time records in both developed and emerging markets. Company gross margin was 46.9% at the high-end of our guidance range and up 70 basis points sequentially, primarily driven by favorable mix. Products gross margin was 39.3%, up 300 basis points sequentially, primarily driven by favorable mix and leverage. Services gross margin was 75%, up 100 basis points sequentially, primarily driven by mix. Operating expenses of $15.4 billion landed at the midpoint of our guidance range and up 7% year-over-year. This strong business performance resulted in all-time records for both net income at $36.3 billion and diluted earnings per share of $2.40, up 10% year-over-year. Operating cash flow was also strong at $29.9 billion, which included the impact of the $11.9 billion we paid during the quarter in connection with the state aid decision. Now, I'm going to provide some more details for each of our revenue categories. iPhone revenue was $69.1 billion, roughly flat to the prior year. We grew in the majority of markets we track and reached all-time revenue records in several developed markets, including Canada, Western Europe, and Japan and in emerging markets like Latin America, the Middle East, and South Asia. The iPhone Active installed base grew to an all-time high in total in an average geographic segment. We also set an all-time record for upgraders. According to a recent survey from Kantar during the December quarter, iPhone was a top-selling model in the U.S., Urban China, India, the U.K., France, Australia, and Japan. We continue to see high levels of customer satisfaction in the U.S. at 96% as measured by 451 research. Mac generated $9 billion in revenue, up 16% year-over-year. We saw strength across our lineup from the new Mac Mini to the latest MacBook Air and MacBook Pro models. This incredible performance was broad-based with double-digit growth in every geographic segment. With our latest advances in Apple Silicon and our fastest neural engine ever, customers are able to take advantage of the full capabilities of AI and Mac. The Mac installed base reached an all-time high and we saw a double-digit growth for both upgraders and customers new to the Mac. Additionally, customer satisfaction in the U.S. was recently measured at 94%. iPad revenue was $8.1 billion, up 15% year-over-year, driven by the new iPad Mini and latest iPad Air. The iPad installed base reached another all-time high, and over half of the customers who purchased an iPad during the quarter were new to the product. Customer satisfaction was at 96% in the U.S. based on the latest reports from 451 Research. Wearable's home and accessories revenue was $11.7 billion, down 2% year-over-year. Customers are excited about the new AirPods 4 and the latest hearing health features in AirPods Pro 2. On watch, although we face a difficult compare against the watch Ultra 2 launch last year, the Apple Watch installed base reached a new all-time high, with over half of customers purchasing an Apple Watch during the quarter being new to the product. Customer satisfaction for watch in the U.S. was reported at 94%. Our services revenue reached an all-time high of $26.3 billion, up 14% year-over-year. Services continues to see strong momentum, and the growth of our installed base of active devices gives us great opportunities for the future. We also see increased customer engagement with our services offerings. Both transacting and paid accounts reached new all-time highs, with paid accounts growing double-digits year-over-year. Paid subscriptions also grew double-digits. We have well over 1 billion paid subscriptions across the services on our platform. We remain focused on improving the breadth and quality of our services offerings, from new games on Apple Arcade to exciting new programming on Fitness Plus, and the continued expansion of features like Tap to Pay, now live in 20 markets. Turning to enterprise, we have seen businesses continue to expand their deployments of our products and services. Deutsche Bank launched its Mac as Choice program for the developers and also issued the latest MacBook Air as a standard computer for their entire mortgage lending division. And we're excited to see leading enterprises such as SAP leverage Apple Intelligence in the U.S., with features like writing tools, summarize, and priority notifications to enhance both their employee and customer experiences. We also see strong demand in our emerging markets. For example, Zomato, a leading food ordering and delivery company in India, has deployed 1,000 of Macs across their workforce to foster innovation. In Vision Pro continues to see more use cases in enterprise, with Cisco's new spatial meetings delivering a fully immersive video conferencing experience for remote collaboration and learning. Let me quickly summarize our cash position and capital return program. We ended the quarter with $141 billion in cash and marketable securities. We repaid $1 billion in maturing debt and decreased commercial paper by $8 billion, resulting in $97 billion in total debt. Therefore, net cash at the end of the quarter was $45 billion. During the quarter, we returned over $30 billion to shareholders. This included $3.9 billion in dividends and equivalents and $23.3 billion through open market repurchases of 100 million Apple shares. As usual, we will provide an update to our capital return program when we report results for the March quarter. As we move ahead into the March quarter, I'd like to review our outlook which includes the types of forward-looking information that Suhasini referred to at the beginning of the call. The color we're providing today assumes that the macroeconomic outlook doesn't worsen from what we're projecting today for the current quarter. As the dollar is strengthened significantly, we expect foreign exchange to be a headwind and to have a negative impact on revenue of about 2.5 percentage points on a year-over-year basis. Despite that headwind, we expect our March quarter total company revenue to grow low to mid-single-digits year-over-year. We expect services revenue to grow low-double-digits year-over-year. When you remove the negative impact of the foreign exchange headwinds I described earlier, the year-over-year growth rate would be comparable to that of the December quarter. We expect gross margin to be between 46.5% and 47.5%. We expect operating expenses to be between $15.1 billion and $15.3 billion. We expect OI&E to be around negative $300 million, excluding any potential impact from the mark-to-market of minority investments, and our tax rate to be around 16%. Finally, today our Board of Directors has declared a cash dividend of $0.25 per share of common stock payable on February 13, 2025, to shareholders of record as of February 10, 2025. With that, let's open to call the questions.\"),\n",
       " ('Suhasini Chandramouli',\n",
       "  'Thank you, Kevin. We ask that you limit yourself to two questions. Operator, may we have the first question please? Question-and-Answer Session'),\n",
       " ('Operator',\n",
       "  'Certainly, we will go ahead and take our first question from Erik Woodring with Morgan Stanley. Please go ahead.'),\n",
       " ('Erik Woodring',\n",
       "  \"Great guys, Thanks so much for taking my questions. Tim, in your prepared remarks, you had noted that iPhone 16 models are selling better in markets where Apple Intelligence is available? And I'm just wondering if you could double-click on that comment a bit and share any other details you believe could better help us understand how Apple Intelligence is really impacting iPhone demand and/or what features you find that users are using most often already? And then I just have a quick follow-up. Thank you.\"),\n",
       " ('Tim Cook',\n",
       "  \"Yes, Eric. Hi, it's Tim. The -- we did see that the markets where we had rolled out Apple Intelligence, that the year-over-year performance on the iPhone 16 family was stronger than those where Apple Intelligence was not available. In terms of the features that people are using, they're using all of the ones that I'd referenced in my opening comments from writing tools to image playground and Genmoji to visual intelligence and more. And so we see all of those being used. The cleanup is another one that is popular and people love seeing that one demoed in the stores as well. We only had 2, 2.5 weeks or so during the December quarter of the second release of [18.2] (ph) and then only had the U.K. and the other English language countries for the 2.5 weeks. And so we've got just the early indications at the moment, but we were glad…\"),\n",
       " ('Erik Woodring', \"Okay, that's really helpful.\"),\n",
       " ('Tim Cook', 'Yes.'),\n",
       " ('Erik Woodring',\n",
       "  \"Okay, thank you for that, Tim. It's helpful. And then, you know, if we just touch on China, obviously, in the news fairly frequently, if we set aside China Macro, which I understand is still challenging, can you maybe talk about the headwinds that that Apple faces, whether that's, you know, shifting preferences for Western technology brands in favor of domestic vendors, or is this just a function of not necessarily having Apple intelligence available with the iPhone 16, which is, you know, not necessarily helping replacement cycles. Just maybe double clicking on, on what you think and what you're hearing in China as a regard as it relates to the iPhone. Thanks so much.\"),\n",
       " ('Tim Cook',\n",
       "  \"Yes, sure. If you look at our greater China revenue for the quarter, we were down 11% year-over-year. And over half of the decline that we experienced was driven by change in channel inventory from the beginning to the end of the quarter. And of course on the Apple intelligence side we have not rolled out in China and as we just talked about we did see better results in the markets that we had rolled out in than markets we hadn't rolled out in. And of course, it's the most competitive market in the world. And so all of those things are true. In terms of the macro situation, there was a fiscal stimulus or subsidy announced in very recently in January that did not affect the December quarter. There were some provincial subsidies in the December quarter, but the national program was announced, I believe, on January 20. And it does cover the categories that we have products in from smartphones to tablets and PCs and smart watches up to a certain, a maximum price point. And so we do see fiscal stimulus occurring and we'll be glad to talk about what that looks like on the next call.\"),\n",
       " ('Erik Woodring', 'Great. Thanks so much, Tim. Good luck.'),\n",
       " ('Tim Cook', 'Thank you.'),\n",
       " ('Suhasini Chandramouli',\n",
       "  'Thank you, Eric. Operator, can we have the next question, please?'),\n",
       " ('Operator',\n",
       "  'Our next question is from Ben Reitzes with Melius. Please go ahead.'),\n",
       " ('Ben Reitzes',\n",
       "  \"Hey, guys. Thanks a lot for the question. And, hey, Tim, I wanted to ask you who -- you knew this one was coming, but there's a perception that you're a big beneficiary of lower cost of compute and I was wondering if you could give your worldly perspective here on the DeepSeek situation and if you are going to, if you, if anything's happened to change your views in terms of a tailwind to margins and your ability to execute even due to the potential for cost to come down due to that development and probably what was going to happen anyway. But I'd love your perspective on that and then have a quick follow-up. Thanks.\"),\n",
       " ('Tim Cook',\n",
       "  \"Sure. In general, I think innovation that drives efficiency is a good thing. And that's what you see in that model. Our tight integration of silicon and software, I think, will continue to serve us very well. As you know, we do things on the device, and we do things in the private cloud and which mimics from a architectural point of view the -- what happens on the device. And from a CapEx point of view, we've always taken a very prudent and deliberate approach to our expenditure and we continue to leverage a hybrid model, which I think continues to serve us well.\"),\n",
       " ('Ben Reitzes',\n",
       "  \"Oh, great. All right. Thanks, Tim. And then, you know, just with regard to, you know, the iPhone trajectory, do you feel like, I guess, what is -- you obviously don't talk about new products and stuff like that, but do you feel that there's a lot of room for form factor innovation in the future? Or do you feel that the current lineup kind of it shows where you're going? I guess without pulling punches wondering if you, you thought you know in terms of the phone innovation if there's a lot more to come and you could see the kind of current market changing a bit over the next two to three years. Thanks.\"),\n",
       " ('Tim Cook',\n",
       "  \"I think, Ben, I think there's a lot more to come and I could not feel more optimistic about our product pipeline. So I think there's a lot of innovation left on the smartphone.\"),\n",
       " ('Ben Reitzes', 'Thanks a lot, Tim.'),\n",
       " ('Tim Cook', 'Yes, thank you.'),\n",
       " ('Suhasini Chandramouli',\n",
       "  'Thank you, Ben. Operator, could we have the next question, please?'),\n",
       " ('Operator',\n",
       "  'Our next question is from Michael Ng with Goldman Sachs. Please go ahead.'),\n",
       " ('Michael Ng',\n",
       "  \"Good afternoon. Thank you for the question. I have two as well. First, it was encouraging to hear about the record for iPhone upgraders, which I think is something you haven't said for about a year now. I was wondering if you could talk a little bit about what you would attribute this upgrade strength to? Has Apple Intelligence played a role in helping upgrades in the markets that you've launched in? Thanks.\"),\n",
       " ('Tim Cook',\n",
       "  \"Yes, thank you for the question. If you look at iPhone, we did set an all-time record for upgraders, so we've never seen a higher level of upgraders before. The installed base hit a new all-time high as well. And if you look at the 16, compared to the 15 from launch, which occurred, as you know, in September, so this is across now two quarters from September to the end of the December fiscal quarter, the 16 outperformed the 15. And so I think you can conclude from that, that there are compelling reasons to upgrade. And in the markets where we had launched Apple Intelligence, they outperformed the markets that we did not. So lots…\"),\n",
       " ('Michael Ng', \"Great, thank you, Tim. That's…\"),\n",
       " ('Tim Cook', 'Yes, lots of good color there.'),\n",
       " ('Michael Ng',\n",
       "  \"Great, thank you, Tim. That's very clear. And then I had one about the iPad Pro and for the thinner version. I was just wondering if you could talk about that thin form factor for the iPad Pro. How did it help iPad sales overall and what did your kind of marketing consumer research tell you about how consumers valued that thin product form factor? Thank you.\"),\n",
       " ('Tim Cook',\n",
       "  \"It's a good question. iPad overall grew 15% for the quarter and it was more driven by iPad Air and the entry level iPad than it was the top level iPad. But overall we could not be more pleased with the iPad category growing 15%. It's a great achievement for the quarter. And probably what is most important is that over half of the sales in the December quarter went to customers who were new to the iPad. So that tells us that there's a good amount of customers there to attract.\"),\n",
       " ('Michael Ng', 'Thank you very much, Tim.'),\n",
       " ('Tim Cook', 'Yes. Thank you.'),\n",
       " ('Suhasini Chandramouli',\n",
       "  'Thanks, Mike. Operator, could we have the next question, please?'),\n",
       " ('Operator',\n",
       "  'Our next question is from Amit Daryanani from Evercore. Please go ahead.'),\n",
       " ('Amit Daryanani',\n",
       "  \"Good afternoon, everyone. I have two as well. Maybe to start with, you folks are seeing some very robust growth trends in emerging markets right now for Apple products? Can you just add a high level, just talk about the durability of growth that you see in emerging markets? And then do you think the summation of these emerging markets are starting to get big enough or perhaps starting to grow fast enough that it can actually offset some of the China headwinds you're going through?\"),\n",
       " ('Tim Cook',\n",
       "  \"We have great results in a number of emerging markets. And as you know from past calls, I'm particularly keen on India. India set a December quarter record during the quarter. And we're opening more stores there. We've announced that we're going to open four new stores there. We also, the iPhone was the top selling model in India for the quarter. And it's the second largest smartphone market in the world and the third largest for PCs and tablets and so there's a huge market and we are -- we have very modest share in these markets. And so I think there's lots of upside there. And that's just one of the emerging markets.\"),\n",
       " ('Kevan Parekh',\n",
       "  \"Yes, maybe I'll add, Amit, that in emerging markets we're also seeing double-digit growth on the install base, both in total and for the iPhone as well. So that's also an encouraging sign.\"),\n",
       " ('Amit Daryanani',\n",
       "  'Perfect. Thank you. And then, you know, just a question on gross margins for the March quarter. You folks are guiding gross margin is flattish on a sequential basis. Typically, I think it tends to be guided up a little bit, 50 basis points, so sequentially. Can we just touch on like, what are the offsets of the puts and takes you see here on gross margins? And Kevan, maybe you can just talked about its FX having an outsized impact in your margin profile as well in March?'),\n",
       " ('Kevan Parekh',\n",
       "  \"Yes, Amit, let me take that One. You know, as we mentioned in my remarks, we're guiding to 46.5% to 47.5%. So we think it's, you know, we're very pleased with that level of guidance. As you mentioned, there's always puts and takes. We do think there's going to be some FX headwinds, which we talked about, that's going to affect, you know, our revenue growth as well. You know, it'll have an impact here on the margin, a sequential impact on margins. But we think that's going to be offset by favorable costs and the relative mix of services. We also, as you know, when we move from Q1 to Q2, especially on the product side, because Q1 is such a large quarter for a products business, we do have a loss of leverage. So there are some puts and takes, and I think we feel good about the range. We think it's a very, very strong guide for gross margin.\"),\n",
       " ('Suhasini Chandramouli',\n",
       "  'Thanks, Amit. Operator, could we get the next question, please?'),\n",
       " ('Operator',\n",
       "  'Our next question is from Wamsi Mohan with Bank of America. Please go ahead.'),\n",
       " ('Wamsi Mohan',\n",
       "  \"Yes, thank you so much. Tim, I want to follow-up on your comment about channel inventory in China. I was wondering if you could maybe address more broadly if channel inventory across your different product lines and regions? Do you feel they're elevated or out of range in any other regions? And given the clearing event that kind of happened in China, I guess in the quarter, should we think of a more normal progression quarter-on-quarter into the March quarter in China in particular, and I will follow.\"),\n",
       " ('Tim Cook',\n",
       "  \"Yes, I don't want to project sales for the current quarter by region, but if you if you look at the channel inventory and look at iPhone in the aggregate, so on a worldwide basis we're very comfortable with our channel inventory position in the -- in China my point was that our channel inventory reduced from the beginning of the quarter to the end of the quarter, and that was over half of the reduction in the reported results. And so if you look, part of the reason for that is that our sales were a bit higher than we forecasted them to be toward the end of the quarter. And so we ended a little leaner than we had expected to.\"),\n",
       " ('Wamsi Mohan', \"Okay, that's very clear. Thank you.\"),\n",
       " ('Tim Cook', 'Yes, thank you.'),\n",
       " ('Wamsi Mohan',\n",
       "  \"And then maybe as my follow-up, your services growth has been very strong and I know you've kind of been navigating some pretty challenging regulatory burdens on the business globally. So how should investors think about maybe either a top line or margin headwind that let's say you're currently absorbing in your results that could potentially maybe reverse in a more balanced regulatory environment? Thank you so much.\"),\n",
       " ('Kevan Parekh',\n",
       "  'Yes. So I think one, I just wanted to kind of reiterate the fact that, you know, our services business had an all-time record for December quarter of 14%. And that was a one strength that we saw across all geographic segments and also was very broad base across all of our services. So we have, as you know, a very broad services portfolio. And so we do see, you know, good momentum across the board. And as well, we continue to see increasing engagement across the customer base, across all of the service offerings, both transacting and paid accounts. We talked about reaching all-time highs, and we have over now 1 billion paid subscriptions across the services platform.'),\n",
       " ('Suhasini Chandramouli',\n",
       "  'All right. Thanks, Wamsi. Operator, could we get the next question, please?'),\n",
       " ('Operator',\n",
       "  'Our next question is from Samik Chatterjee with JPMorgan. Please go ahead.'),\n",
       " ('Samik Chatterjee',\n",
       "  \"Hi. Thanks for taking my questions. I guess for the first one, if I -- I mean, you had a great quarter on Macs and iPads both. And I'm just curious, in terms of if you can help us think about the sustainability of this double-digit growth that you saw in both the product lines, and more interest are also here, we are talking about Apple Intelligence sort of influencing volumes on iPhones, but any thoughts on sort of how -- what does that influence look like in terms of volumes for Macs, for example, where I think there's a lot of conversation on AI PCs, how you're thinking about the impact there? And I have a quick follow-up. Thank you.\"),\n",
       " ('Tim Cook',\n",
       "  \"Yes. If you look at Mac, Mac was up 16% and on iPad, we were up 15%. The Mac was driven by the very strong uptake on our new products during the quarter and the continued success of the MacBook Air. And so as you know, we've launched an M4-based MacBook Pro, an iMac and a Mac Mini during the quarter. We believe we've got the best AI PC out there for running workloads. The silicon in the Mac is, and it has been for several years now, designed by us and really designed for these workloads. And so I don't want to project at the category level for the future, but we're incredibly pleased with both the Mac and the iPad for the quarter.\"),\n",
       " ('Samik Chatterjee',\n",
       "  \"Okay. And Tim, I'm going to use your earlier discussion about India as a strong emerging market to sort of ask you about the supply chain planning there in terms of how much of the supply chain planning there that you're doing is more of a reflection of the growth expectations from that market relative to in terms of diversification of the supply chain? And how should we sort of think about that strategy in terms of that particular country? Thank you.\"),\n",
       " ('Tim Cook',\n",
       "  \"Yes. If you look at the manufacturing we do there, we do manufacturing both for the domestic market, and we export. And so in -- our business needs a certain economies of scale for it to make sense to manufacture in country. And so that really means that we're going to be both a use for the domestic market and an export market.\"),\n",
       " ('Samik Chatterjee', 'Great. Thank you.'),\n",
       " ('Tim Cook', 'Yes, thanks.'),\n",
       " ('Suhasini Chandramouli',\n",
       "  'Thank you, Samik. Operator, could we get the next question, please?'),\n",
       " ('Operator',\n",
       "  'Our next question is from David Vogt with UBS. Please go ahead.'),\n",
       " ('David Vogt',\n",
       "  \"Great, thanks, guys, for taking my question. So maybe, Tim, this is for you. I'm trying to think about your commentary around Apple Intelligence being sort of a momentum driver for the iPhone business. But when I think about your kind of framework for the March quarter, if I kind of adjust for channel inventory over the last couple of years, kind of, feels like your iPhone revenue for the March quarter is going to be relatively similar to the quarter two years ago and even the quarter last year? So how do we square kind of the momentum versus kind of the iPhone business effectively really kind of unchanged over the last couple of years? And then second, when I think about kind of the gross margin profile of the business, obviously, you've done a great job in taking gross margins up. Where do you think we sit in terms of, on the services side at least, where margins could go? It looks like the 75% margin has been incredibly successful quarter. But just trying to get a sense for where do you think this number could go over the intermediate term? Thank you.\"),\n",
       " ('Tim Cook',\n",
       "  \"Yes. If you look at Apple Intelligence, what my point earlier was, that markets where we had rolled out Apple Intelligence during the Q1 period performed better on a year-over-year basis than markets where we had not. And so that gives us -- it's a positive indicator that we were pleased with. There are many compelling reasons to upgrade. And the other thing I would say, that I think I mentioned earlier, is that if you look at it from a launch to the end of the December quarter, and so that goes back to September, the 16 family is outperforming the 15 family. And so I think those are two good data points. Our next round of language rollouts will be in April. And so it will be at the -- in our Q3 quarter. And I'll let Kevan take the gross margin question.\"),\n",
       " ('David Vogt', 'Yes, great.'),\n",
       " ('Kevan Parekh',\n",
       "  \"Hi, David. How are you? So on the Services gross margin, I think maybe just stepping back a second. Services business in general in aggregate is accretive to the overall company margin. And one of the things, as an important reminder, is we've got a very broad services portfolio. And those businesses have very different margin profiles. And so I think, one, it's because of the nature of those businesses and in part also because of the way we account for them. And so one of the big factors that drive the Services gross margins and relative performance of those different businesses within the portfolio. We also have the dynamic of some scale businesses like payment services, iCloud, that are actually growing. And there, when we add incremental users, those end up being accretive to margins as well. And so in general, what we saw in the December quarter was nice momentum across our entire services business that allows us to deliver that 75% margin at the services level. And I think our guidance takes into consideration what we think we're going to land from a company standpoint of 46.5% to 47.5%, which again, we think is a strong guide.\"),\n",
       " ('David Vogt', 'Great, thanks, guys.'),\n",
       " ('Suhasini Chandramouli',\n",
       "  'All right, thank you, David. Operator, could we have the next question, please?'),\n",
       " ('Operator',\n",
       "  'Our next question is from Krish Sankar with TD Cowen. Please go ahead.'),\n",
       " ('Krish Sankar',\n",
       "  'Yes, thanks for taking my question. I also had two of them. One, the first one for Tim. You had very strong Mac growth, 16% year-over-year last quarter. Just wondering how much of that was driven by some of the Mac silicon innovation versus a replacement cycle for Macs?'),\n",
       " ('Tim Cook',\n",
       "  \"I don't know the answer to your question precisely, but I think it is a combination of these products are so compelling, the M4-based products are so compelling, that it's driving both upgrades at the double-digit level and it's driving switchers at a double-digit level. And so we're seeing both come out, and I think it's just because of the compelling products.\"),\n",
       " ('Krish Sankar',\n",
       "  \"Got it. Got it. Thanks for that, Tim. And then a follow-up for Kevan on the gross margin. I want to ask you on the product side. Last quarter, you had 39.3%, which is very strong, similar to a year ago period. I'm kind of curious how much more levels do you have on the product side to improve the gross margin? Or do you think with some of the more new AI-related devices, there's more upside to gross margin from here on the product hardware side?\"),\n",
       " ('Kevan Parekh',\n",
       "  \"Yes. Thanks, Krish, for the question. So on the product side, as you mentioned, we had pretty strong sequential improvement, 300 basis points, for the December quarter. That was really driven by, we talked about, favorable mix and leverage. As you know, in Q1, again, it's a launch quarter for many products, and so we tend to benefit from the leverage that we get from that higher volume. I would say, in general, our gross margin on products is driven by a number of factors. One of them is the various product launches that we have. Different products do have different margin profiles. And so that mix does make a difference. And in particular, what we're seeing is, for example, many of our mix is across like phone, for example, we're seeing customers gravitate towards our Pro products because of things like affordability that allows our customers to get into our best products, which have favorable gross margins. So we're continuing to see that trend, that impacted us in the December quarter. As well, I think we're in a favorable commodity environment from a cost standpoint. And so we're benefiting from that as well in the December quarter. And then that's going to be, as we talked about, we're going to have a foreign exchange headwind heading into the March quarter, but we figured that's contemplated in the guidance range that we gave, the 46.5% to 47.5%.\"),\n",
       " ('Krish Sankar', 'Thanks, Kevan. Thanks, Tim.'),\n",
       " ('Suhasini Chandramouli',\n",
       "  'Thank you, Krish. Operator, could we get the next question, please?'),\n",
       " ('Operator',\n",
       "  'Our next question is from Richard Kramer with Arete Research. Please go ahead.'),\n",
       " ('Richard Kramer',\n",
       "  \"Thanks very much. My first question is for Tim. I'd like to ask about what might accelerate the pace of Apple Intelligence adoption. I guess do you see this simply as a question of time i.e., to launch more markets and languages or increase the percentage of installed base devices that can support it? Or is it a question of money, i.e., shifting R&D or marketing spend towards AI? And based on other prior Apple services, do you expect a sort of tipping point where adoption will go mainstream? Thanks.\"),\n",
       " ('Tim Cook',\n",
       "  \"I do believe it will go mainstream. I'm getting feedback from people using different features today. And this is -- keep in mind that on the iPhone side of our business, you either have to have an iPhone 15 Pro or iPhone 16 to use Apple Intelligence. And so the -- as that base grows, I think the usage will continue to grow. And I think -- I know from my own personal experience, once you start using the features, you can't imagine not using them anymore. I know I get 100s of e-mails a day, and the summarization function is so important. So I think it's a combination of that. And of course, in April, we roll out a whole series of new languages that we had mentioned, and so the base grows further.\"),\n",
       " ('Richard Kramer',\n",
       "  \"Okay, thank you. And then, Kevan, one of Luca's legacies was really getting Apple to record margin levels and also maintaining very consistent pricing across the product range. But taking the current high levels of profitability as fairly stable, what observations might you share about price sensitivity of users and whether having a wider range of pricing across the products might unlocks potentially further market share gains or boost overall product growth?\"),\n",
       " ('Kevan Parekh',\n",
       "  \"Yes, it's a good question. I think one, I don't think we're going to really depart from what served us pretty well to now. I mean we always take it into consideration, looking at short-term -- comparison between the short term and the long term. I think we've had a pretty disciplined pricing strategy, which would serve us pretty well. And I think we're going to continually kind of stick with that as far as I can tell.\"),\n",
       " ('Richard Kramer', 'Okay, thanks.'),\n",
       " ('Suhasini Chandramouli',\n",
       "  'Thank you, Richard. Operator, could we get the next question, please?'),\n",
       " ('Operator',\n",
       "  'Our next question is from Atif Malik with Citi. Please go ahead.'),\n",
       " ('Atif Malik',\n",
       "  'Hi, thank you for taking my question. How do you guys see the potential tariff impact to your product for consumer demand under Trump 2.0 you guys did find under Trump 1.0?'),\n",
       " ('Tim Cook',\n",
       "  \"We are monitoring the situation and don't have anything more to add than that.\"),\n",
       " ('Atif Malik',\n",
       "  \"Great. And Tim, as a follow-up, there is a lot of discussion on agentic AI, the use of agents. Do you guys see the upgraded series expected in April as something that will, let's say, be the killer application among the suite of features that you have announced in Apple Intelligence?\"),\n",
       " ('Tim Cook',\n",
       "  \"I think the killer feature is different for different people. But I think for most, they're going to find that they're going to use many of the features every day. And certainly, one of those is the -- is Siri, and that will be coming over the next several months.\"),\n",
       " ('Atif Malik', 'Thank you.'),\n",
       " ('Suhasini Chandramouli',\n",
       "  'All right. Thank you, Atif. Operator, could we please get the last question?'),\n",
       " ('Operator',\n",
       "  'Our last question is from Ben Bollin from Cleveland Research Company. Please go ahead.'),\n",
       " ('Ben Bollin',\n",
       "  \"Good evening, everyone. Thanks for taking the question. Tim, I'm interested in your thoughts and how you would have us think about the average useful life of these devices in the wild. And in particular, curious, if you look at the strength you saw in fiscal ‘21 and how that might support accelerated refresh opportunity into the future?\"),\n",
       " ('Tim Cook',\n",
       "  \"Yes. Ben, I think it's different for different types of users. I mean you have very early adopter kind of users that are very quick to jump on the latest technology that upgrade very frequently. And then you have people that are on the entire opposite side of that barbell. And most people are between those two points. And so I do think there were lots of units that are sold during the COVID period of time, and it's a huge opportunity for us as a company to -- for more than one of the product categories.\"),\n",
       " ('Ben Bollin', 'That’s it from me. Thanks, Tim.'),\n",
       " ('Tim Cook', 'Thank you. ')]"
      ]
     },
     "execution_count": 20,
     "metadata": {},
     "output_type": "execute_result"
    }
   ],
   "source": [
    "result"
   ]
  },
  {
   "cell_type": "code",
   "execution_count": 21,
   "id": "a67bac61-f92d-4fb7-a59a-46138ff2810b",
   "metadata": {},
   "outputs": [],
   "source": [
    "df = pd.DataFrame(result, columns=[\"Speaker\", \"Statement\"])"
   ]
  },
  {
   "cell_type": "code",
   "execution_count": 22,
   "id": "053f463c-4342-4177-ba6a-f9c6f301e104",
   "metadata": {},
   "outputs": [
    {
     "data": {
      "text/html": [
       "<div>\n",
       "<style scoped>\n",
       "    .dataframe tbody tr th:only-of-type {\n",
       "        vertical-align: middle;\n",
       "    }\n",
       "\n",
       "    .dataframe tbody tr th {\n",
       "        vertical-align: top;\n",
       "    }\n",
       "\n",
       "    .dataframe thead th {\n",
       "        text-align: right;\n",
       "    }\n",
       "</style>\n",
       "<table border=\"1\" class=\"dataframe\">\n",
       "  <thead>\n",
       "    <tr style=\"text-align: right;\">\n",
       "      <th></th>\n",
       "      <th>Speaker</th>\n",
       "      <th>Statement</th>\n",
       "    </tr>\n",
       "  </thead>\n",
       "  <tbody>\n",
       "    <tr>\n",
       "      <th>0</th>\n",
       "      <td>Suhasini Chandramouli</td>\n",
       "      <td>Good afternoon, and welcome to the Apple Q1 Fi...</td>\n",
       "    </tr>\n",
       "    <tr>\n",
       "      <th>1</th>\n",
       "      <td>Tim Cook</td>\n",
       "      <td>Thank you, Suhasini. Good afternoon, everyone,...</td>\n",
       "    </tr>\n",
       "    <tr>\n",
       "      <th>2</th>\n",
       "      <td>Kevan Parekh</td>\n",
       "      <td>Thanks Tim, and good afternoon everyone. I'm g...</td>\n",
       "    </tr>\n",
       "    <tr>\n",
       "      <th>3</th>\n",
       "      <td>Suhasini Chandramouli</td>\n",
       "      <td>Thank you, Kevin. We ask that you limit yourse...</td>\n",
       "    </tr>\n",
       "    <tr>\n",
       "      <th>4</th>\n",
       "      <td>Operator</td>\n",
       "      <td>Certainly, we will go ahead and take our first...</td>\n",
       "    </tr>\n",
       "    <tr>\n",
       "      <th>...</th>\n",
       "      <td>...</td>\n",
       "      <td>...</td>\n",
       "    </tr>\n",
       "    <tr>\n",
       "      <th>83</th>\n",
       "      <td>Operator</td>\n",
       "      <td>Our last question is from Ben Bollin from Clev...</td>\n",
       "    </tr>\n",
       "    <tr>\n",
       "      <th>84</th>\n",
       "      <td>Ben Bollin</td>\n",
       "      <td>Good evening, everyone. Thanks for taking the ...</td>\n",
       "    </tr>\n",
       "    <tr>\n",
       "      <th>85</th>\n",
       "      <td>Tim Cook</td>\n",
       "      <td>Yes. Ben, I think it's different for different...</td>\n",
       "    </tr>\n",
       "    <tr>\n",
       "      <th>86</th>\n",
       "      <td>Ben Bollin</td>\n",
       "      <td>That’s it from me. Thanks, Tim.</td>\n",
       "    </tr>\n",
       "    <tr>\n",
       "      <th>87</th>\n",
       "      <td>Tim Cook</td>\n",
       "      <td>Thank you.</td>\n",
       "    </tr>\n",
       "  </tbody>\n",
       "</table>\n",
       "<p>88 rows × 2 columns</p>\n",
       "</div>"
      ],
      "text/plain": [
       "                  Speaker                                          Statement\n",
       "0   Suhasini Chandramouli  Good afternoon, and welcome to the Apple Q1 Fi...\n",
       "1                Tim Cook  Thank you, Suhasini. Good afternoon, everyone,...\n",
       "2            Kevan Parekh  Thanks Tim, and good afternoon everyone. I'm g...\n",
       "3   Suhasini Chandramouli  Thank you, Kevin. We ask that you limit yourse...\n",
       "4                Operator  Certainly, we will go ahead and take our first...\n",
       "..                    ...                                                ...\n",
       "83               Operator  Our last question is from Ben Bollin from Clev...\n",
       "84             Ben Bollin  Good evening, everyone. Thanks for taking the ...\n",
       "85               Tim Cook  Yes. Ben, I think it's different for different...\n",
       "86             Ben Bollin                    That’s it from me. Thanks, Tim.\n",
       "87               Tim Cook                                        Thank you. \n",
       "\n",
       "[88 rows x 2 columns]"
      ]
     },
     "execution_count": 22,
     "metadata": {},
     "output_type": "execute_result"
    }
   ],
   "source": [
    "df"
   ]
  },
  {
   "cell_type": "code",
   "execution_count": 23,
   "id": "d6669cea-1418-4876-85a0-118dc1b97168",
   "metadata": {},
   "outputs": [],
   "source": [
    "def map_role(name):\n",
    "    if name in company_participants_dictionary:\n",
    "        return company_participants_dictionary[name]\n",
    "    elif name in analyst_names:\n",
    "        return \"Analyst\"\n",
    "    else:\n",
    "        return 'Operator'"
   ]
  },
  {
   "cell_type": "code",
   "execution_count": 24,
   "id": "bfa8f2cc-a77b-45e8-8552-b4b97a0e9ea0",
   "metadata": {},
   "outputs": [],
   "source": [
    "df['Role'] = df['Speaker'].apply(map_role)"
   ]
  },
  {
   "cell_type": "code",
   "execution_count": 25,
   "id": "736a7bfc-7259-44e2-a852-e95cb701d1f0",
   "metadata": {},
   "outputs": [
    {
     "data": {
      "text/html": [
       "<div>\n",
       "<style scoped>\n",
       "    .dataframe tbody tr th:only-of-type {\n",
       "        vertical-align: middle;\n",
       "    }\n",
       "\n",
       "    .dataframe tbody tr th {\n",
       "        vertical-align: top;\n",
       "    }\n",
       "\n",
       "    .dataframe thead th {\n",
       "        text-align: right;\n",
       "    }\n",
       "</style>\n",
       "<table border=\"1\" class=\"dataframe\">\n",
       "  <thead>\n",
       "    <tr style=\"text-align: right;\">\n",
       "      <th></th>\n",
       "      <th>Speaker</th>\n",
       "      <th>Statement</th>\n",
       "      <th>Role</th>\n",
       "    </tr>\n",
       "  </thead>\n",
       "  <tbody>\n",
       "    <tr>\n",
       "      <th>0</th>\n",
       "      <td>Suhasini Chandramouli</td>\n",
       "      <td>Good afternoon, and welcome to the Apple Q1 Fi...</td>\n",
       "      <td>Director, Investor Relations</td>\n",
       "    </tr>\n",
       "    <tr>\n",
       "      <th>1</th>\n",
       "      <td>Tim Cook</td>\n",
       "      <td>Thank you, Suhasini. Good afternoon, everyone,...</td>\n",
       "      <td>Chief Executive Officer</td>\n",
       "    </tr>\n",
       "    <tr>\n",
       "      <th>2</th>\n",
       "      <td>Kevan Parekh</td>\n",
       "      <td>Thanks Tim, and good afternoon everyone. I'm g...</td>\n",
       "      <td>Chief Financial Officer</td>\n",
       "    </tr>\n",
       "    <tr>\n",
       "      <th>3</th>\n",
       "      <td>Suhasini Chandramouli</td>\n",
       "      <td>Thank you, Kevin. We ask that you limit yourse...</td>\n",
       "      <td>Director, Investor Relations</td>\n",
       "    </tr>\n",
       "    <tr>\n",
       "      <th>4</th>\n",
       "      <td>Operator</td>\n",
       "      <td>Certainly, we will go ahead and take our first...</td>\n",
       "      <td>Operator</td>\n",
       "    </tr>\n",
       "    <tr>\n",
       "      <th>...</th>\n",
       "      <td>...</td>\n",
       "      <td>...</td>\n",
       "      <td>...</td>\n",
       "    </tr>\n",
       "    <tr>\n",
       "      <th>83</th>\n",
       "      <td>Operator</td>\n",
       "      <td>Our last question is from Ben Bollin from Clev...</td>\n",
       "      <td>Operator</td>\n",
       "    </tr>\n",
       "    <tr>\n",
       "      <th>84</th>\n",
       "      <td>Ben Bollin</td>\n",
       "      <td>Good evening, everyone. Thanks for taking the ...</td>\n",
       "      <td>Analyst</td>\n",
       "    </tr>\n",
       "    <tr>\n",
       "      <th>85</th>\n",
       "      <td>Tim Cook</td>\n",
       "      <td>Yes. Ben, I think it's different for different...</td>\n",
       "      <td>Chief Executive Officer</td>\n",
       "    </tr>\n",
       "    <tr>\n",
       "      <th>86</th>\n",
       "      <td>Ben Bollin</td>\n",
       "      <td>That’s it from me. Thanks, Tim.</td>\n",
       "      <td>Analyst</td>\n",
       "    </tr>\n",
       "    <tr>\n",
       "      <th>87</th>\n",
       "      <td>Tim Cook</td>\n",
       "      <td>Thank you.</td>\n",
       "      <td>Chief Executive Officer</td>\n",
       "    </tr>\n",
       "  </tbody>\n",
       "</table>\n",
       "<p>88 rows × 3 columns</p>\n",
       "</div>"
      ],
      "text/plain": [
       "                  Speaker                                          Statement  \\\n",
       "0   Suhasini Chandramouli  Good afternoon, and welcome to the Apple Q1 Fi...   \n",
       "1                Tim Cook  Thank you, Suhasini. Good afternoon, everyone,...   \n",
       "2            Kevan Parekh  Thanks Tim, and good afternoon everyone. I'm g...   \n",
       "3   Suhasini Chandramouli  Thank you, Kevin. We ask that you limit yourse...   \n",
       "4                Operator  Certainly, we will go ahead and take our first...   \n",
       "..                    ...                                                ...   \n",
       "83               Operator  Our last question is from Ben Bollin from Clev...   \n",
       "84             Ben Bollin  Good evening, everyone. Thanks for taking the ...   \n",
       "85               Tim Cook  Yes. Ben, I think it's different for different...   \n",
       "86             Ben Bollin                    That’s it from me. Thanks, Tim.   \n",
       "87               Tim Cook                                        Thank you.    \n",
       "\n",
       "                            Role  \n",
       "0   Director, Investor Relations  \n",
       "1        Chief Executive Officer  \n",
       "2        Chief Financial Officer  \n",
       "3   Director, Investor Relations  \n",
       "4                       Operator  \n",
       "..                           ...  \n",
       "83                      Operator  \n",
       "84                       Analyst  \n",
       "85       Chief Executive Officer  \n",
       "86                       Analyst  \n",
       "87       Chief Executive Officer  \n",
       "\n",
       "[88 rows x 3 columns]"
      ]
     },
     "execution_count": 25,
     "metadata": {},
     "output_type": "execute_result"
    }
   ],
   "source": [
    "df"
   ]
  },
  {
   "cell_type": "code",
   "execution_count": 26,
   "id": "4c425edd-7ce6-426b-9e46-f19b20d2ac71",
   "metadata": {},
   "outputs": [],
   "source": [
    "rows = []\n",
    "\n",
    "for idx, row in df.iterrows():\n",
    "    sentences = sent_tokenize(row['Statement'])\n",
    "    for sentence in sentences:\n",
    "        rows.append({\n",
    "            'Speaker': row['Speaker'],\n",
    "            'Role': row['Role'],\n",
    "            'Statement': sentence\n",
    "        })\n",
    "        \n",
    "df = pd.DataFrame(rows)"
   ]
  },
  {
   "cell_type": "code",
   "execution_count": 27,
   "id": "833d0b7b-e9d1-431f-9cad-a407d470ec37",
   "metadata": {},
   "outputs": [
    {
     "data": {
      "text/html": [
       "<div>\n",
       "<style scoped>\n",
       "    .dataframe tbody tr th:only-of-type {\n",
       "        vertical-align: middle;\n",
       "    }\n",
       "\n",
       "    .dataframe tbody tr th {\n",
       "        vertical-align: top;\n",
       "    }\n",
       "\n",
       "    .dataframe thead th {\n",
       "        text-align: right;\n",
       "    }\n",
       "</style>\n",
       "<table border=\"1\" class=\"dataframe\">\n",
       "  <thead>\n",
       "    <tr style=\"text-align: right;\">\n",
       "      <th></th>\n",
       "      <th>Speaker</th>\n",
       "      <th>Role</th>\n",
       "      <th>Statement</th>\n",
       "    </tr>\n",
       "  </thead>\n",
       "  <tbody>\n",
       "    <tr>\n",
       "      <th>0</th>\n",
       "      <td>Suhasini Chandramouli</td>\n",
       "      <td>Director, Investor Relations</td>\n",
       "      <td>Good afternoon, and welcome to the Apple Q1 Fi...</td>\n",
       "    </tr>\n",
       "    <tr>\n",
       "      <th>1</th>\n",
       "      <td>Suhasini Chandramouli</td>\n",
       "      <td>Director, Investor Relations</td>\n",
       "      <td>My name is Suhasini Chandramouli, Director of ...</td>\n",
       "    </tr>\n",
       "    <tr>\n",
       "      <th>2</th>\n",
       "      <td>Suhasini Chandramouli</td>\n",
       "      <td>Director, Investor Relations</td>\n",
       "      <td>Today's call is being recorded.</td>\n",
       "    </tr>\n",
       "    <tr>\n",
       "      <th>3</th>\n",
       "      <td>Suhasini Chandramouli</td>\n",
       "      <td>Director, Investor Relations</td>\n",
       "      <td>Speaking first today are Apple CEO, Tim Cook, ...</td>\n",
       "    </tr>\n",
       "    <tr>\n",
       "      <th>4</th>\n",
       "      <td>Suhasini Chandramouli</td>\n",
       "      <td>Director, Investor Relations</td>\n",
       "      <td>After that, we'll open the call to questions f...</td>\n",
       "    </tr>\n",
       "    <tr>\n",
       "      <th>...</th>\n",
       "      <td>...</td>\n",
       "      <td>...</td>\n",
       "      <td>...</td>\n",
       "    </tr>\n",
       "    <tr>\n",
       "      <th>467</th>\n",
       "      <td>Tim Cook</td>\n",
       "      <td>Chief Executive Officer</td>\n",
       "      <td>And most people are between those two points.</td>\n",
       "    </tr>\n",
       "    <tr>\n",
       "      <th>468</th>\n",
       "      <td>Tim Cook</td>\n",
       "      <td>Chief Executive Officer</td>\n",
       "      <td>And so I do think there were lots of units tha...</td>\n",
       "    </tr>\n",
       "    <tr>\n",
       "      <th>469</th>\n",
       "      <td>Ben Bollin</td>\n",
       "      <td>Analyst</td>\n",
       "      <td>That’s it from me.</td>\n",
       "    </tr>\n",
       "    <tr>\n",
       "      <th>470</th>\n",
       "      <td>Ben Bollin</td>\n",
       "      <td>Analyst</td>\n",
       "      <td>Thanks, Tim.</td>\n",
       "    </tr>\n",
       "    <tr>\n",
       "      <th>471</th>\n",
       "      <td>Tim Cook</td>\n",
       "      <td>Chief Executive Officer</td>\n",
       "      <td>Thank you.</td>\n",
       "    </tr>\n",
       "  </tbody>\n",
       "</table>\n",
       "<p>472 rows × 3 columns</p>\n",
       "</div>"
      ],
      "text/plain": [
       "                   Speaker                          Role  \\\n",
       "0    Suhasini Chandramouli  Director, Investor Relations   \n",
       "1    Suhasini Chandramouli  Director, Investor Relations   \n",
       "2    Suhasini Chandramouli  Director, Investor Relations   \n",
       "3    Suhasini Chandramouli  Director, Investor Relations   \n",
       "4    Suhasini Chandramouli  Director, Investor Relations   \n",
       "..                     ...                           ...   \n",
       "467               Tim Cook       Chief Executive Officer   \n",
       "468               Tim Cook       Chief Executive Officer   \n",
       "469             Ben Bollin                       Analyst   \n",
       "470             Ben Bollin                       Analyst   \n",
       "471               Tim Cook       Chief Executive Officer   \n",
       "\n",
       "                                             Statement  \n",
       "0    Good afternoon, and welcome to the Apple Q1 Fi...  \n",
       "1    My name is Suhasini Chandramouli, Director of ...  \n",
       "2                      Today's call is being recorded.  \n",
       "3    Speaking first today are Apple CEO, Tim Cook, ...  \n",
       "4    After that, we'll open the call to questions f...  \n",
       "..                                                 ...  \n",
       "467      And most people are between those two points.  \n",
       "468  And so I do think there were lots of units tha...  \n",
       "469                                 That’s it from me.  \n",
       "470                                       Thanks, Tim.  \n",
       "471                                         Thank you.  \n",
       "\n",
       "[472 rows x 3 columns]"
      ]
     },
     "execution_count": 27,
     "metadata": {},
     "output_type": "execute_result"
    }
   ],
   "source": [
    "df"
   ]
  },
  {
   "cell_type": "code",
   "execution_count": 28,
   "id": "4b449731-6cb3-4436-af87-38fc557d7616",
   "metadata": {},
   "outputs": [],
   "source": [
    "df.to_csv(\"../Data/Statements_With_Speaker_&_Role.csv\", index=False)"
   ]
  }
 ],
 "metadata": {
  "kernelspec": {
   "display_name": "Python 3 (ipykernel)",
   "language": "python",
   "name": "python3"
  },
  "language_info": {
   "codemirror_mode": {
    "name": "ipython",
    "version": 3
   },
   "file_extension": ".py",
   "mimetype": "text/x-python",
   "name": "python",
   "nbconvert_exporter": "python",
   "pygments_lexer": "ipython3",
   "version": "3.11.9"
  }
 },
 "nbformat": 4,
 "nbformat_minor": 5
}
