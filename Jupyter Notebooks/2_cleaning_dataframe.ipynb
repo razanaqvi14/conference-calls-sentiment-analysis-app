{
 "cells": [
  {
   "cell_type": "code",
   "execution_count": 1,
   "id": "02bd8e19-fcf7-4079-9940-a371e01e7e48",
   "metadata": {},
   "outputs": [],
   "source": [
    "import pandas as pd\n",
    "import nltk\n",
    "from nltk.corpus import stopwords\n",
    "from nltk.tokenize import sent_tokenize, word_tokenize\n",
    "import re"
   ]
  },
  {
   "cell_type": "code",
   "execution_count": 2,
   "id": "7dc4a055-24c4-43c1-bdda-9724165d817e",
   "metadata": {},
   "outputs": [
    {
     "name": "stderr",
     "output_type": "stream",
     "text": [
      "[nltk_data] Downloading package stopwords to\n",
      "[nltk_data]     C:\\Users\\razan\\AppData\\Roaming\\nltk_data...\n",
      "[nltk_data]   Package stopwords is already up-to-date!\n"
     ]
    },
    {
     "data": {
      "text/plain": [
       "True"
      ]
     },
     "execution_count": 2,
     "metadata": {},
     "output_type": "execute_result"
    }
   ],
   "source": [
    "nltk.download(\"stopwords\")"
   ]
  },
  {
   "cell_type": "code",
   "execution_count": 3,
   "id": "d141531f-a711-4370-936f-531ac4221c7d",
   "metadata": {},
   "outputs": [],
   "source": [
    "stop_words = stopwords.words('english')"
   ]
  },
  {
   "cell_type": "code",
   "execution_count": 4,
   "id": "9e60d5e8-9538-4009-a4d6-8b2fd38ddc02",
   "metadata": {},
   "outputs": [],
   "source": [
    "df = pd.read_csv(\"../Data/Statement_With_Speaker_&_Role.csv\")"
   ]
  },
  {
   "cell_type": "code",
   "execution_count": 5,
   "id": "e7941a39-f8f3-4484-8309-4094c2ea370b",
   "metadata": {},
   "outputs": [
    {
     "data": {
      "text/html": [
       "<div>\n",
       "<style scoped>\n",
       "    .dataframe tbody tr th:only-of-type {\n",
       "        vertical-align: middle;\n",
       "    }\n",
       "\n",
       "    .dataframe tbody tr th {\n",
       "        vertical-align: top;\n",
       "    }\n",
       "\n",
       "    .dataframe thead th {\n",
       "        text-align: right;\n",
       "    }\n",
       "</style>\n",
       "<table border=\"1\" class=\"dataframe\">\n",
       "  <thead>\n",
       "    <tr style=\"text-align: right;\">\n",
       "      <th></th>\n",
       "      <th>Speaker</th>\n",
       "      <th>Role</th>\n",
       "      <th>Statement</th>\n",
       "    </tr>\n",
       "  </thead>\n",
       "  <tbody>\n",
       "    <tr>\n",
       "      <th>0</th>\n",
       "      <td>Suhasini Chandramouli</td>\n",
       "      <td>Director, Investor Relations</td>\n",
       "      <td>Good afternoon, and welcome to the Apple Q1 Fi...</td>\n",
       "    </tr>\n",
       "    <tr>\n",
       "      <th>1</th>\n",
       "      <td>Suhasini Chandramouli</td>\n",
       "      <td>Director, Investor Relations</td>\n",
       "      <td>My name is Suhasini Chandramouli, Director of ...</td>\n",
       "    </tr>\n",
       "    <tr>\n",
       "      <th>2</th>\n",
       "      <td>Suhasini Chandramouli</td>\n",
       "      <td>Director, Investor Relations</td>\n",
       "      <td>Today's call is being recorded.</td>\n",
       "    </tr>\n",
       "    <tr>\n",
       "      <th>3</th>\n",
       "      <td>Suhasini Chandramouli</td>\n",
       "      <td>Director, Investor Relations</td>\n",
       "      <td>Speaking first today are Apple CEO, Tim Cook, ...</td>\n",
       "    </tr>\n",
       "    <tr>\n",
       "      <th>4</th>\n",
       "      <td>Suhasini Chandramouli</td>\n",
       "      <td>Director, Investor Relations</td>\n",
       "      <td>After that, we'll open the call to questions f...</td>\n",
       "    </tr>\n",
       "    <tr>\n",
       "      <th>...</th>\n",
       "      <td>...</td>\n",
       "      <td>...</td>\n",
       "      <td>...</td>\n",
       "    </tr>\n",
       "    <tr>\n",
       "      <th>467</th>\n",
       "      <td>Tim Cook</td>\n",
       "      <td>Chief Executive Officer</td>\n",
       "      <td>And most people are between those two points.</td>\n",
       "    </tr>\n",
       "    <tr>\n",
       "      <th>468</th>\n",
       "      <td>Tim Cook</td>\n",
       "      <td>Chief Executive Officer</td>\n",
       "      <td>And so I do think there were lots of units tha...</td>\n",
       "    </tr>\n",
       "    <tr>\n",
       "      <th>469</th>\n",
       "      <td>Ben Bollin</td>\n",
       "      <td>Analyst</td>\n",
       "      <td>That’s it from me.</td>\n",
       "    </tr>\n",
       "    <tr>\n",
       "      <th>470</th>\n",
       "      <td>Ben Bollin</td>\n",
       "      <td>Analyst</td>\n",
       "      <td>Thanks, Tim.</td>\n",
       "    </tr>\n",
       "    <tr>\n",
       "      <th>471</th>\n",
       "      <td>Tim Cook</td>\n",
       "      <td>Chief Executive Officer</td>\n",
       "      <td>Thank you.</td>\n",
       "    </tr>\n",
       "  </tbody>\n",
       "</table>\n",
       "<p>472 rows × 3 columns</p>\n",
       "</div>"
      ],
      "text/plain": [
       "                   Speaker                          Role  \\\n",
       "0    Suhasini Chandramouli  Director, Investor Relations   \n",
       "1    Suhasini Chandramouli  Director, Investor Relations   \n",
       "2    Suhasini Chandramouli  Director, Investor Relations   \n",
       "3    Suhasini Chandramouli  Director, Investor Relations   \n",
       "4    Suhasini Chandramouli  Director, Investor Relations   \n",
       "..                     ...                           ...   \n",
       "467               Tim Cook       Chief Executive Officer   \n",
       "468               Tim Cook       Chief Executive Officer   \n",
       "469             Ben Bollin                       Analyst   \n",
       "470             Ben Bollin                       Analyst   \n",
       "471               Tim Cook       Chief Executive Officer   \n",
       "\n",
       "                                             Statement  \n",
       "0    Good afternoon, and welcome to the Apple Q1 Fi...  \n",
       "1    My name is Suhasini Chandramouli, Director of ...  \n",
       "2                      Today's call is being recorded.  \n",
       "3    Speaking first today are Apple CEO, Tim Cook, ...  \n",
       "4    After that, we'll open the call to questions f...  \n",
       "..                                                 ...  \n",
       "467      And most people are between those two points.  \n",
       "468  And so I do think there were lots of units tha...  \n",
       "469                                 That’s it from me.  \n",
       "470                                       Thanks, Tim.  \n",
       "471                                         Thank you.  \n",
       "\n",
       "[472 rows x 3 columns]"
      ]
     },
     "execution_count": 5,
     "metadata": {},
     "output_type": "execute_result"
    }
   ],
   "source": [
    "df"
   ]
  },
  {
   "cell_type": "code",
   "execution_count": 6,
   "id": "bb4012bc-623f-4906-8afc-05b70f857ee0",
   "metadata": {},
   "outputs": [],
   "source": [
    "def remove_stopwords(sentence, stopwords=None):\n",
    "    pattern = r\"\\b(?:\" + \"|\".join(re.escape(word) for word in stopwords) + r\")\\b\"\n",
    "\n",
    "    cleaned_sentence = re.sub(pattern, \"\", sentence, flags=re.IGNORECASE)\n",
    "\n",
    "    return \" \".join(cleaned_sentence.split())"
   ]
  },
  {
   "cell_type": "code",
   "execution_count": 7,
   "id": "29f78a5a-28c7-4c32-88df-e377ebfc5d0f",
   "metadata": {},
   "outputs": [],
   "source": [
    "def replace_apostrophe(text):\n",
    "    text = re.sub(\"’\", \"'\", text)\n",
    "    return text"
   ]
  },
  {
   "cell_type": "code",
   "execution_count": 8,
   "id": "62388fa3-4bc2-4858-83a3-9c1c1436e3bd",
   "metadata": {},
   "outputs": [],
   "source": [
    "custom_stopwords = set(stopwords.words(\"english\")) | set(\n",
    "    [\n",
    "        \"um\", \"uh\", \"okay\", \"well\", \"you know\", \"i mean\", \"like\", \"think\", \"question\", \"questions\", \"so\", \"actually\", \"basically\",\n",
    "        \"just\", \"right\", \"sure\", \"yeah\", \"yep\", \"nope\", \"great\", \"thanks\", \"thank you\", \"good morning\",\n",
    "        \"good afternoon\", \"good evening\", \"ladies and gentlemen\", \"everyone\", \"folks\", \"team\",\n",
    "        \"welcome\", \"pleasure\", \"appreciate\", \"introduction\", \"moving on\", \"next slide\", \"let’s move on\",\n",
    "        \"let’s begin\", \"let’s get started\", \"first of all\", \"secondly\", \"last but not least\", \"before we start\",\n",
    "        \"before we begin\", \"without further ado\", \"i’d like to\", \"we’d like to\", \"going forward\",\n",
    "        \"as you can see\", \"as mentioned earlier\", \"as we discussed\", \"as previously stated\",\n",
    "        \"as i said\", \"as we said\", \"again\", \"also\", \"furthermore\", \"moreover\", \"in addition\",\n",
    "        \"of course\", \"obviously\", \"clearly\", \"frankly\", \"honestly\", \"to be honest\", \"to be frank\",\n",
    "        \"to be clear\", \"as far as i know\", \"as far as we know\", \"our perspective\", \"our standpoint\",\n",
    "        \"to some extent\", \"at the end of the day\", \"bottom line\", \"high level\", \"big picture\",\n",
    "        \"to wrap up\", \"to summarize\", \"in conclusion\", \"in summary\", \"before i hand it over\",\n",
    "        \"before we wrap up\", \"any questions\", \"do you have any questions\", \"q&a\", \"let’s take questions\",\n",
    "        \"moving to the next question\", \"let me check\", \"we will get back to you\", \"we will follow up\",\n",
    "        \"circle back\", \"touch base\", \"take this offline\", \"offline discussion\", \"follow-up\",\n",
    "        \"let’s revisit\", \"we are looking into it\", \"we are working on it\", \"stay tuned\", \"more details to come\",\n",
    "        \"we don’t have that information right now\", \"i don’t have that data\", \"good question\", \"great question\",\n",
    "        \"let me clarify\", \"let me add\", \"if i may\", \"if you will\", \"if you look at\", \"when you think about it\",\n",
    "        \"at this point in time\", \"right now\", \"currently\", \"as of now\", \"in terms of\", \"with respect to\",\n",
    "        \"regarding\", \"pertaining to\", \"relative to\", \"looking at\", \"focusing on\", \"from a standpoint of\",\n",
    "        \"from a perspective of\", \"from an angle of\", \"talking about\", \"discussing\", \"speaking of\",\n",
    "        \"with that said\", \"having said that\", \"on that note\", \"before i forget\", \"one more thing\", \"please\", \"operator\"\n",
    "    ]\n",
    ")"
   ]
  },
  {
   "cell_type": "code",
   "execution_count": 9,
   "id": "ed438467-f54f-4ae6-96e0-b22307753817",
   "metadata": {},
   "outputs": [],
   "source": [
    "def clean_text(text):\n",
    "    text = text.lower()\n",
    "    text = re.sub(r\"\\bapple intelligence\\b\", \"appleintelligence\", text)\n",
    "    text = re.sub(r\"\\byear-over-year\\b\", \"yearoveryear\", text)\n",
    "    text = re.sub(r\"\\ball-time\\b\", \"alltime\", text)\n",
    "    text = re.sub(r\"\\ball-in-one\\b\", \"allinone\", text)\n",
    "    text = re.sub(r\"(?<!\\w)(u\\.s\\.)(?!\\w)\", \"unitedstates\", text)\n",
    "    text = re.sub(r\"(?<!\\w)(u\\.k\\.)(?!\\w)\", \"unitedkingdom\", text)\n",
    "    text = re.sub(r\"(?<!\\w)(i\\.e\\.)(?!\\w)\", \"that is\", text)\n",
    "    text = re.sub(r\"\\biphone (1[0-6]|[1-9])\\b\", lambda m: f\"iphone{m.group(1)}\", text)\n",
    "    text = replace_apostrophe(text)\n",
    "    text = remove_stopwords(text, stopwords = custom_stopwords)\n",
    "    text = re.sub(r\"[^\\w\\s%$.]\", \"\", text)\n",
    "    text = re.sub(r\"\\.$\", \"\", text)\n",
    "    text = re.sub(r\"\\s+\", \" \", text)\n",
    "    return text.strip()"
   ]
  },
  {
   "cell_type": "code",
   "execution_count": 10,
   "id": "cd675911-5b01-4017-827a-41832da739ba",
   "metadata": {},
   "outputs": [],
   "source": [
    "df[\"Cleaned Statement\"] = df[\"Statement\"].apply(clean_text)"
   ]
  },
  {
   "cell_type": "code",
   "execution_count": 11,
   "id": "b19b09fc-fcd8-4801-9638-fa7090c33fd9",
   "metadata": {},
   "outputs": [],
   "source": [
    "df = df[df[\"Cleaned Statement\"].str.split().apply(len) >= 3].reset_index(drop = True)"
   ]
  },
  {
   "cell_type": "code",
   "execution_count": 12,
   "id": "a4b9b486-8e8b-44a2-a630-ae9baf595597",
   "metadata": {},
   "outputs": [],
   "source": [
    "df.drop(\"Cleaned Statement\", axis = 1, inplace = True)"
   ]
  },
  {
   "cell_type": "code",
   "execution_count": 13,
   "id": "75bc8bbf-f1db-4737-aee3-71c421414d2b",
   "metadata": {},
   "outputs": [
    {
     "data": {
      "text/html": [
       "<div>\n",
       "<style scoped>\n",
       "    .dataframe tbody tr th:only-of-type {\n",
       "        vertical-align: middle;\n",
       "    }\n",
       "\n",
       "    .dataframe tbody tr th {\n",
       "        vertical-align: top;\n",
       "    }\n",
       "\n",
       "    .dataframe thead th {\n",
       "        text-align: right;\n",
       "    }\n",
       "</style>\n",
       "<table border=\"1\" class=\"dataframe\">\n",
       "  <thead>\n",
       "    <tr style=\"text-align: right;\">\n",
       "      <th></th>\n",
       "      <th>Speaker</th>\n",
       "      <th>Role</th>\n",
       "      <th>Statement</th>\n",
       "    </tr>\n",
       "  </thead>\n",
       "  <tbody>\n",
       "    <tr>\n",
       "      <th>0</th>\n",
       "      <td>Suhasini Chandramouli</td>\n",
       "      <td>Director, Investor Relations</td>\n",
       "      <td>Good afternoon, and welcome to the Apple Q1 Fi...</td>\n",
       "    </tr>\n",
       "    <tr>\n",
       "      <th>1</th>\n",
       "      <td>Suhasini Chandramouli</td>\n",
       "      <td>Director, Investor Relations</td>\n",
       "      <td>My name is Suhasini Chandramouli, Director of ...</td>\n",
       "    </tr>\n",
       "    <tr>\n",
       "      <th>2</th>\n",
       "      <td>Suhasini Chandramouli</td>\n",
       "      <td>Director, Investor Relations</td>\n",
       "      <td>Today's call is being recorded.</td>\n",
       "    </tr>\n",
       "    <tr>\n",
       "      <th>3</th>\n",
       "      <td>Suhasini Chandramouli</td>\n",
       "      <td>Director, Investor Relations</td>\n",
       "      <td>Speaking first today are Apple CEO, Tim Cook, ...</td>\n",
       "    </tr>\n",
       "    <tr>\n",
       "      <th>4</th>\n",
       "      <td>Suhasini Chandramouli</td>\n",
       "      <td>Director, Investor Relations</td>\n",
       "      <td>After that, we'll open the call to questions f...</td>\n",
       "    </tr>\n",
       "    <tr>\n",
       "      <th>...</th>\n",
       "      <td>...</td>\n",
       "      <td>...</td>\n",
       "      <td>...</td>\n",
       "    </tr>\n",
       "    <tr>\n",
       "      <th>331</th>\n",
       "      <td>Tim Cook</td>\n",
       "      <td>Chief Executive Officer</td>\n",
       "      <td>Ben, I think it's different for different type...</td>\n",
       "    </tr>\n",
       "    <tr>\n",
       "      <th>332</th>\n",
       "      <td>Tim Cook</td>\n",
       "      <td>Chief Executive Officer</td>\n",
       "      <td>I mean you have very early adopter kind of use...</td>\n",
       "    </tr>\n",
       "    <tr>\n",
       "      <th>333</th>\n",
       "      <td>Tim Cook</td>\n",
       "      <td>Chief Executive Officer</td>\n",
       "      <td>And then you have people that are on the entir...</td>\n",
       "    </tr>\n",
       "    <tr>\n",
       "      <th>334</th>\n",
       "      <td>Tim Cook</td>\n",
       "      <td>Chief Executive Officer</td>\n",
       "      <td>And most people are between those two points.</td>\n",
       "    </tr>\n",
       "    <tr>\n",
       "      <th>335</th>\n",
       "      <td>Tim Cook</td>\n",
       "      <td>Chief Executive Officer</td>\n",
       "      <td>And so I do think there were lots of units tha...</td>\n",
       "    </tr>\n",
       "  </tbody>\n",
       "</table>\n",
       "<p>336 rows × 3 columns</p>\n",
       "</div>"
      ],
      "text/plain": [
       "                   Speaker                          Role  \\\n",
       "0    Suhasini Chandramouli  Director, Investor Relations   \n",
       "1    Suhasini Chandramouli  Director, Investor Relations   \n",
       "2    Suhasini Chandramouli  Director, Investor Relations   \n",
       "3    Suhasini Chandramouli  Director, Investor Relations   \n",
       "4    Suhasini Chandramouli  Director, Investor Relations   \n",
       "..                     ...                           ...   \n",
       "331               Tim Cook       Chief Executive Officer   \n",
       "332               Tim Cook       Chief Executive Officer   \n",
       "333               Tim Cook       Chief Executive Officer   \n",
       "334               Tim Cook       Chief Executive Officer   \n",
       "335               Tim Cook       Chief Executive Officer   \n",
       "\n",
       "                                             Statement  \n",
       "0    Good afternoon, and welcome to the Apple Q1 Fi...  \n",
       "1    My name is Suhasini Chandramouli, Director of ...  \n",
       "2                      Today's call is being recorded.  \n",
       "3    Speaking first today are Apple CEO, Tim Cook, ...  \n",
       "4    After that, we'll open the call to questions f...  \n",
       "..                                                 ...  \n",
       "331  Ben, I think it's different for different type...  \n",
       "332  I mean you have very early adopter kind of use...  \n",
       "333  And then you have people that are on the entir...  \n",
       "334      And most people are between those two points.  \n",
       "335  And so I do think there were lots of units tha...  \n",
       "\n",
       "[336 rows x 3 columns]"
      ]
     },
     "execution_count": 13,
     "metadata": {},
     "output_type": "execute_result"
    }
   ],
   "source": [
    "df"
   ]
  },
  {
   "cell_type": "code",
   "execution_count": 14,
   "id": "d826d898-7fe4-448e-ab60-715cc97ff6cd",
   "metadata": {},
   "outputs": [],
   "source": [
    "df.to_csv(\"../Data/Cleaned_Statements_With_Speaker_&_Role.csv\", index=False) "
   ]
  }
 ],
 "metadata": {
  "kernelspec": {
   "display_name": "Python 3 (ipykernel)",
   "language": "python",
   "name": "python3"
  },
  "language_info": {
   "codemirror_mode": {
    "name": "ipython",
    "version": 3
   },
   "file_extension": ".py",
   "mimetype": "text/x-python",
   "name": "python",
   "nbconvert_exporter": "python",
   "pygments_lexer": "ipython3",
   "version": "3.11.9"
  }
 },
 "nbformat": 4,
 "nbformat_minor": 5
}
